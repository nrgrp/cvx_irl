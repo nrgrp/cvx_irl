{
 "cells": [
  {
   "cell_type": "code",
   "execution_count": 1,
   "id": "initial_id",
   "metadata": {
    "ExecuteTime": {
     "end_time": "2024-11-20T13:43:53.839973Z",
     "start_time": "2024-11-20T13:43:53.788530Z"
    }
   },
   "outputs": [],
   "source": [
    "import numpy as np\n",
    "import cvxpy as cp"
   ]
  },
  {
   "cell_type": "code",
   "execution_count": 2,
   "id": "266bc575cf7cbef1",
   "metadata": {
    "ExecuteTime": {
     "end_time": "2024-11-20T13:43:53.848717Z",
     "start_time": "2024-11-20T13:43:53.840702Z"
    }
   },
   "outputs": [],
   "source": [
    "pi_exp = np.load('../data/pi.npy')\n",
    "P = np.load('../data/P.npy')\n",
    "\n",
    "num_states = P.shape[0]\n",
    "gridsize = int(np.sqrt(num_states))\n",
    "num_actions = P.shape[-1]\n",
    "\n",
    "Pastr = []\n",
    "lPa = []\n",
    "for s_idx in range(num_states):\n",
    "    astr = np.argmax(pi_exp[s_idx, :])\n",
    "    a = np.delete(np.arange(num_actions), astr)\n",
    "    Pastr.append(P[s_idx, :, astr])\n",
    "    lPa.append(P[s_idx, :, a])\n",
    "Pastr = np.array(Pastr)\n",
    "lPa = np.array(lPa).transpose(1, 0, 2)"
   ]
  },
  {
   "cell_type": "code",
   "execution_count": 3,
   "id": "b001d66df8916a96",
   "metadata": {
    "ExecuteTime": {
     "end_time": "2024-11-20T13:44:06.756484Z",
     "start_time": "2024-11-20T13:43:53.849358Z"
    }
   },
   "outputs": [
    {
     "name": "stdout",
     "output_type": "stream",
     "text": [
      "lambda: 50.00 (upper: 100.00, lower: 0.00), optimal value: 0.00\n",
      "lambda: 25.00 (upper: 50.00, lower: 0.00), optimal value: 0.00\n",
      "lambda: 12.50 (upper: 25.00, lower: 0.00), optimal value: 0.00\n",
      "lambda: 6.25 (upper: 12.50, lower: 0.00), optimal value: 0.00\n",
      "lambda: 3.12 (upper: 6.25, lower: 0.00), optimal value: -915.37\n",
      "lambda: 4.69 (upper: 6.25, lower: 3.12), optimal value: 0.00\n",
      "lambda: 3.91 (upper: 4.69, lower: 3.12), optimal value: 0.00\n",
      "lambda: 3.52 (upper: 3.91, lower: 3.12), optimal value: 0.00\n",
      "lambda: 3.32 (upper: 3.52, lower: 3.12), optimal value: -294.59\n",
      "lambda: 3.42 (upper: 3.52, lower: 3.32), optimal value: 0.00\n",
      "lambda: 3.37 (upper: 3.42, lower: 3.32), optimal value: -142.62\n",
      "lambda: 3.39 (upper: 3.42, lower: 3.37), optimal value: -68.58\n"
     ]
    }
   ],
   "source": [
    "# problem information (input from user)\n",
    "m = num_states  # number of states\n",
    "gamma = 0.9  # discount factor\n",
    "Pastr = Pastr  # transition matrix of the optimal action\n",
    "lPa = lPa  # list of transition matrices of the other actions\n",
    "\n",
    "# hyperparameters (input from user)\n",
    "rmax = 100  # reward function bound\n",
    "lbd_up = 100\n",
    "lbd_low = 0\n",
    "epsilon = 0.05\n",
    "\n",
    "r = cp.Variable(m)\n",
    "s = cp.Variable(m)\n",
    "lbd = cp.Parameter(nonneg=True)  # scalarization weight\n",
    "\n",
    "constraints = []\n",
    "H = np.linalg.inv(np.identity(m) - gamma * Pastr)\n",
    "D = np.array([[Pastr[i] - Pa[i] for Pa in lPa] for i in range(m)])\n",
    "for i in range(m):\n",
    "    constraints.append(D[i] @ H @ r + s[i] >= 0)\n",
    "for Pa in lPa:\n",
    "    constraints.append((Pastr - Pa) @ H @ r >= 0)\n",
    "constraints.append(rmax >= r)\n",
    "constraints.append(r >= 0)\n",
    "\n",
    "obj = cp.Minimize(cp.sum(s) + lbd * cp.norm(r, 1))\n",
    "prob = cp.Problem(obj, constraints)\n",
    "\n",
    "while True:\n",
    "    lbd.value = 0.5 * (lbd_up + lbd_low)\n",
    "    opt_val = prob.solve()\n",
    "\n",
    "    print(f'lambda: {lbd.value:.2f} (upper: {lbd_up:.2f}, lower: {lbd_low:.2f}), optimal value: {prob.value:.2f}')\n",
    "    if np.abs(opt_val) < 1e-6:\n",
    "        lbd_up = lbd.value\n",
    "    elif lbd_up - lbd_low <= epsilon:\n",
    "        break\n",
    "    else:\n",
    "        lbd_low = lbd.value"
   ]
  }
 ],
 "metadata": {
  "kernelspec": {
   "display_name": "Python 3 (ipykernel)",
   "language": "python",
   "name": "python3"
  },
  "language_info": {
   "codemirror_mode": {
    "name": "ipython",
    "version": 3
   },
   "file_extension": ".py",
   "mimetype": "text/x-python",
   "name": "python",
   "nbconvert_exporter": "python",
   "pygments_lexer": "ipython3",
   "version": "3.12.8"
  }
 },
 "nbformat": 4,
 "nbformat_minor": 5
}
